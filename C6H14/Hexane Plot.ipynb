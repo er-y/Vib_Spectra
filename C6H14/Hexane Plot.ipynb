{
 "cells": [
  {
   "cell_type": "code",
   "execution_count": 1,
   "id": "389125bc",
   "metadata": {},
   "outputs": [],
   "source": [
    "import pandas as pd\n",
    "import numpy as np\n",
    "import matplotlib.pyplot as plt"
   ]
  },
  {
   "cell_type": "code",
   "execution_count": 2,
   "id": "7b92ac5e",
   "metadata": {},
   "outputs": [
    {
     "name": "stderr",
     "output_type": "stream",
     "text": [
      "/opt/crc/p/python/3.7.3/gcc/lib/python3.7/site-packages/matplotlib/cbook/__init__.py:1402: FutureWarning: Support for multi-dimensional indexing (e.g. `obj[:, None]`) is deprecated and will be removed in a future version.  Convert to a numpy array before indexing instead.\n",
      "  x[:, None]\n",
      "/opt/crc/p/python/3.7.3/gcc/lib/python3.7/site-packages/matplotlib/axes/_base.py:276: FutureWarning: Support for multi-dimensional indexing (e.g. `obj[:, None]`) is deprecated and will be removed in a future version.  Convert to a numpy array before indexing instead.\n",
      "  x = x[:, np.newaxis]\n",
      "/opt/crc/p/python/3.7.3/gcc/lib/python3.7/site-packages/matplotlib/axes/_base.py:278: FutureWarning: Support for multi-dimensional indexing (e.g. `obj[:, None]`) is deprecated and will be removed in a future version.  Convert to a numpy array before indexing instead.\n",
      "  y = y[:, np.newaxis]\n"
     ]
    },
    {
     "data": {
      "image/png": "[encoded data removed]",
      "text/plain": [
       "<Figure size 432x288 with 1 Axes>"
      ]
     },
     "metadata": {
      "needs_background": "light"
     },
     "output_type": "display_data"
    }
   ],
   "source": [
    "x=pd.read_excel('Hexane.xlsx') #takes experimental data from Yoonrae's Excel file\n",
    "xval=x['cm**-1']\n",
    "yval=x['Intensity']\n",
    "plt.vlines([710.91,781.10,873.17,1052.11,1226.14,1335.91,1356.31,1445.81,1446.13,1459.89,2934.35,2950.06,2961.46,2991.58,3027.50,3033.71],-0.1,1, color='red', label='DFT') #frequencies from orca calculation\n",
    "# plt.hlines([0],599.76244,3997.77341, color='gray', linestyle='dashed') #horizontal line at 0\n",
    "plt.plot(xval,yval/max(yval), label='Exp')\n",
    "\n",
    "plt.legend(loc='upper right')\n",
    "plt.xlabel(\"Frequency (cm^-1)\", size=15)\n",
    "plt.ylabel(\"Normalized Intensity\", size=15)\n",
    "plt.title(\"IR Spectrum of Hexane\", size=17)\n",
    "plt.xlim(3997.77341,599.76244) #limits of experimental data\n",
    "plt.ylim(-0.1,1.3) #adjusted for readibility of legend and grpah organization\n",
    "plt.yticks([]) #removes y axis values\n",
    "\n",
    "plt.tight_layout()\n",
    "plt.savefig('./IR_Hexane.pdf')\n",
    "plt.show()"
   ]
  },
  {
   "cell_type": "code",
   "execution_count": 11,
   "id": "25bb2eb7",
   "metadata": {},
   "outputs": [
    {
     "data": {
      "text/html": [
       "<div>\n",
       "<style scoped>\n",
       "    .dataframe tbody tr th:only-of-type {\n",
       "        vertical-align: middle;\n",
       "    }\n",
       "\n",
       "    .dataframe tbody tr th {\n",
       "        vertical-align: top;\n",
       "    }\n",
       "\n",
       "    .dataframe thead th {\n",
       "        text-align: right;\n",
       "    }\n",
       "</style>\n",
       "<table border=\"1\" class=\"dataframe\">\n",
       "  <thead>\n",
       "    <tr style=\"text-align: right;\">\n",
       "      <th></th>\n",
       "      <th>cm**-1</th>\n",
       "      <th>Intensity</th>\n",
       "    </tr>\n",
       "  </thead>\n",
       "  <tbody>\n",
       "    <tr>\n",
       "      <th>0</th>\n",
       "      <td>3997.77341</td>\n",
       "      <td>-0.01151</td>\n",
       "    </tr>\n",
       "    <tr>\n",
       "      <th>1</th>\n",
       "      <td>3995.84491</td>\n",
       "      <td>-0.01155</td>\n",
       "    </tr>\n",
       "    <tr>\n",
       "      <th>2</th>\n",
       "      <td>3993.91642</td>\n",
       "      <td>-0.01159</td>\n",
       "    </tr>\n",
       "    <tr>\n",
       "      <th>3</th>\n",
       "      <td>3991.98792</td>\n",
       "      <td>-0.01164</td>\n",
       "    </tr>\n",
       "    <tr>\n",
       "      <th>4</th>\n",
       "      <td>3990.05942</td>\n",
       "      <td>-0.01169</td>\n",
       "    </tr>\n",
       "  </tbody>\n",
       "</table>\n",
       "</div>"
      ],
      "text/plain": [
       "       cm**-1  Intensity\n",
       "0  3997.77341   -0.01151\n",
       "1  3995.84491   -0.01155\n",
       "2  3993.91642   -0.01159\n",
       "3  3991.98792   -0.01164\n",
       "4  3990.05942   -0.01169"
      ]
     },
     "execution_count": 11,
     "metadata": {},
     "output_type": "execute_result"
    }
   ],
   "source": [
    "x.head()"
   ]
  },
  {
   "cell_type": "code",
   "execution_count": null,
   "id": "d34b5eca",
   "metadata": {},
   "outputs": [],
   "source": []
  }
 ],
 "metadata": {
  "kernelspec": {
   "display_name": "Python 3 (ipykernel)",
   "language": "python",
   "name": "python3"
  },
  "language_info": {
   "codemirror_mode": {
    "name": "ipython",
    "version": 3
   },
   "file_extension": ".py",
   "mimetype": "text/x-python",
   "name": "python",
   "nbconvert_exporter": "python",
   "pygments_lexer": "ipython3",
   "version": "3.7.3"
  }
 },
 "nbformat": 4,
 "nbformat_minor": 5
}
