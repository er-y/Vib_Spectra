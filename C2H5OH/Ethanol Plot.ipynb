{
 "cells": [
  {
   "cell_type": "code",
   "execution_count": 1,
   "id": "36d30726",
   "metadata": {},
   "outputs": [],
   "source": [
    "import pandas as pd\n",
    "import numpy as np\n",
    "import matplotlib.pyplot as plt"
   ]
  },
  {
   "cell_type": "code",
   "execution_count": 2,
   "id": "c295d074",
   "metadata": {},
   "outputs": [
    {
     "name": "stderr",
     "output_type": "stream",
     "text": [
      "/opt/crc/p/python/3.7.3/gcc/lib/python3.7/site-packages/matplotlib/cbook/__init__.py:1402: FutureWarning: Support for multi-dimensional indexing (e.g. `obj[:, None]`) is deprecated and will be removed in a future version.  Convert to a numpy array before indexing instead.\n",
      "  x[:, None]\n",
      "/opt/crc/p/python/3.7.3/gcc/lib/python3.7/site-packages/matplotlib/axes/_base.py:276: FutureWarning: Support for multi-dimensional indexing (e.g. `obj[:, None]`) is deprecated and will be removed in a future version.  Convert to a numpy array before indexing instead.\n",
      "  x = x[:, np.newaxis]\n",
      "/opt/crc/p/python/3.7.3/gcc/lib/python3.7/site-packages/matplotlib/axes/_base.py:278: FutureWarning: Support for multi-dimensional indexing (e.g. `obj[:, None]`) is deprecated and will be removed in a future version.  Convert to a numpy array before indexing instead.\n",
      "  y = y[:, np.newaxis]\n"
     ]
    },
    {
     "data": {
      "image/png": "[encoded data removed]",
      "text/plain": [
       "<Figure size 432x288 with 1 Axes>"
      ]
     },
     "metadata": {
      "needs_background": "light"
     },
     "output_type": "display_data"
    }
   ],
   "source": [
    "x=pd.read_excel('Ethanol.xlsx') #takes experimental data from Yoonrae's Excel file\n",
    "xval=x['cm**-1']\n",
    "yval=x['Intensity']\n",
    "plt.vlines([875.13,1007.80,1072.02,1232.87,1399.11,2898.32,2922.42,2974.94,3049.86,3050.21,3706.29],-0.1,1, color='red', label='DFT') #frequencies from orca calculation\n",
    "plt.plot(xval,yval/max(yval), label='Exp')\n",
    "plt.hlines([0],599.76244,3997.77341, color='gray', linestyle='dashed') #horizontal line at 0\n",
    "\n",
    "plt.legend(loc='upper right')\n",
    "plt.xlabel(\"Frequency (cm^-1)\", size=15)\n",
    "plt.ylabel(\"Normalized Intensity\", size=15)\n",
    "plt.title(\"IR Spectrum of Ethanol\", size=17)\n",
    "plt.xlim(3997.77341,599.76244) #limits of experimental data\n",
    "plt.ylim(-0.1,1.3) #adjusted for readibility of legend and grpah organization\n",
    "plt.yticks([]) #removes y axis values\n",
    "\n",
    "plt.tight_layout()\n",
    "plt.savefig('./IR_Ethanol.pdf')\n",
    "plt.show()"
   ]
  },
  {
   "cell_type": "code",
   "execution_count": 3,
   "id": "6a237e46",
   "metadata": {},
   "outputs": [
    {
     "data": {
      "text/html": [
       "<div>\n",
       "<style scoped>\n",
       "    .dataframe tbody tr th:only-of-type {\n",
       "        vertical-align: middle;\n",
       "    }\n",
       "\n",
       "    .dataframe tbody tr th {\n",
       "        vertical-align: top;\n",
       "    }\n",
       "\n",
       "    .dataframe thead th {\n",
       "        text-align: right;\n",
       "    }\n",
       "</style>\n",
       "<table border=\"1\" class=\"dataframe\">\n",
       "  <thead>\n",
       "    <tr style=\"text-align: right;\">\n",
       "      <th></th>\n",
       "      <th>cm**-1</th>\n",
       "      <th>Intensity</th>\n",
       "    </tr>\n",
       "  </thead>\n",
       "  <tbody>\n",
       "    <tr>\n",
       "      <th>0</th>\n",
       "      <td>3997.77341</td>\n",
       "      <td>-0.02579</td>\n",
       "    </tr>\n",
       "    <tr>\n",
       "      <th>1</th>\n",
       "      <td>3995.84491</td>\n",
       "      <td>-0.02581</td>\n",
       "    </tr>\n",
       "    <tr>\n",
       "      <th>2</th>\n",
       "      <td>3993.91642</td>\n",
       "      <td>-0.02585</td>\n",
       "    </tr>\n",
       "    <tr>\n",
       "      <th>3</th>\n",
       "      <td>3991.98792</td>\n",
       "      <td>-0.02589</td>\n",
       "    </tr>\n",
       "    <tr>\n",
       "      <th>4</th>\n",
       "      <td>3990.05942</td>\n",
       "      <td>-0.02593</td>\n",
       "    </tr>\n",
       "  </tbody>\n",
       "</table>\n",
       "</div>"
      ],
      "text/plain": [
       "       cm**-1  Intensity\n",
       "0  3997.77341   -0.02579\n",
       "1  3995.84491   -0.02581\n",
       "2  3993.91642   -0.02585\n",
       "3  3991.98792   -0.02589\n",
       "4  3990.05942   -0.02593"
      ]
     },
     "execution_count": 3,
     "metadata": {},
     "output_type": "execute_result"
    }
   ],
   "source": [
    "x.head()"
   ]
  },
  {
   "cell_type": "code",
   "execution_count": null,
   "id": "661017eb",
   "metadata": {},
   "outputs": [],
   "source": []
  }
 ],
 "metadata": {
  "kernelspec": {
   "display_name": "Python 3 (ipykernel)",
   "language": "python",
   "name": "python3"
  },
  "language_info": {
   "codemirror_mode": {
    "name": "ipython",
    "version": 3
   },
   "file_extension": ".py",
   "mimetype": "text/x-python",
   "name": "python",
   "nbconvert_exporter": "python",
   "pygments_lexer": "ipython3",
   "version": "3.7.3"
  }
 },
 "nbformat": 4,
 "nbformat_minor": 5
}
